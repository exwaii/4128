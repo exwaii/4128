{
 "cells": [
  {
   "cell_type": "code",
   "execution_count": null,
   "id": "f92f4d48",
   "metadata": {},
   "outputs": [],
   "source": []
  },
  {
   "cell_type": "code",
   "execution_count": 12,
   "id": "313baa1f",
   "metadata": {},
   "outputs": [
    {
     "name": "stdout",
     "output_type": "stream",
     "text": [
      "0.4444166\n"
     ]
    }
   ],
   "source": [
    "def at_least_2(a, b, c):\n",
    "    return abs(a-b) >= 2 and abs(a-c) >= 2 and abs(b-c) >= 2\n",
    "values = [i for i in range(1, 13) for _ in range(4)]\n",
    "from random import sample\n",
    "\n",
    "n = 10_000_000\n",
    "success = 0\n",
    "for _ in range(n):\n",
    "    if at_least_2(*sample(values, 3)):\n",
    "        success += 1\n",
    "print(success / n)\n"
   ]
  }
 ],
 "metadata": {
  "kernelspec": {
   "display_name": "Python 3",
   "language": "python",
   "name": "python3"
  },
  "language_info": {
   "codemirror_mode": {
    "name": "ipython",
    "version": 3
   },
   "file_extension": ".py",
   "mimetype": "text/x-python",
   "name": "python",
   "nbconvert_exporter": "python",
   "pygments_lexer": "ipython3",
   "version": "3.11.7"
  }
 },
 "nbformat": 4,
 "nbformat_minor": 5
}

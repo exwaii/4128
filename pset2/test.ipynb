{
 "cells": [
  {
   "cell_type": "code",
   "execution_count": 25,
   "id": "f06934f3",
   "metadata": {},
   "outputs": [
    {
     "data": {
      "text/plain": [
       "poly1d([  1,  -3, -13,  15])"
      ]
     },
     "execution_count": 25,
     "metadata": {},
     "output_type": "execute_result"
    }
   ],
   "source": [
    "import numpy as np\n",
    "p = np.poly1d([1, -1])\n",
    "q = np.poly1d([1, -5])\n",
    "r = np.poly1d([1, 3])\n",
    "np.polymul(np.polymul(p,q), r)"
   ]
  },
  {
   "cell_type": "code",
   "execution_count": null,
   "id": "0cfc8062",
   "metadata": {},
   "outputs": [
    {
     "name": "stdout",
     "output_type": "stream",
     "text": [
      "30\n",
      "{'uuruuruurur', 'uruuruuruur', 'uurururuuru', 'uururuuruur', 'uuruurruuru', 'uruuruurruu', 'uurruururuu', 'uruurruuruu', 'ruuruuruuru', 'uuruururruu', 'uururruuruu', 'ururuururuu', 'uuruururuur', 'ruururuuruu', 'uuruurururu', 'uruurururuu', 'ururuuruuru', 'uurruuruuru', 'uuruurruruu', 'uruuruururu', 'uururuurruu', 'urruuruuruu', 'urururuuruu', 'uururuururu', 'uruururuuru', 'ruuruururuu', 'uuruuruurru', 'uururururuu', 'ruruuruuruu', 'uurruruuruu'}\n"
     ]
    }
   ],
   "source": [
    "from itertools import permutations\n",
    "p = set(permutations(['u' for i in range(7)] + ['r' for i in range(4)]))\n",
    "p = [''.join(i) for i in p]\n",
    "a = len(p)\n",
    "for i in p:\n",
    "    if 'uuu' in i or 'rrr' in i:\n",
    "        a -= 1;\n",
    "print(a)"
   ]
  },
  {
   "cell_type": "code",
   "execution_count": 9,
   "id": "0f4b858e",
   "metadata": {},
   "outputs": [
    {
     "data": {
      "text/plain": [
       "0.4476281"
      ]
     },
     "execution_count": 9,
     "metadata": {},
     "output_type": "execute_result"
    }
   ],
   "source": [
    "from random import random   \n",
    "iterations = 10000000\n",
    "win = 0\n",
    "k = (5 ** 0.5 - 1)/2\n",
    "l = 0.87268\n",
    "\n",
    "for i in range(iterations):\n",
    "    a = random()\n",
    "    if a < k:\n",
    "        a = random() \n",
    "    b = random()\n",
    "    if b < l:\n",
    "        b = random()\n",
    "    \n",
    "    if b > a:\n",
    "        win += 1\n",
    "\n",
    "win/iterations"
   ]
  }
 ],
 "metadata": {
  "kernelspec": {
   "display_name": "Python 3",
   "language": "python",
   "name": "python3"
  },
  "language_info": {
   "codemirror_mode": {
    "name": "ipython",
    "version": 3
   },
   "file_extension": ".py",
   "mimetype": "text/x-python",
   "name": "python",
   "nbconvert_exporter": "python",
   "pygments_lexer": "ipython3",
   "version": "3.11.7"
  }
 },
 "nbformat": 4,
 "nbformat_minor": 5
}

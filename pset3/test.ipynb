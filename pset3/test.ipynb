{
 "cells": [
  {
   "cell_type": "code",
   "execution_count": null,
   "id": "a57758a4",
   "metadata": {},
   "outputs": [],
   "source": []
  },
  {
   "cell_type": "code",
   "execution_count": 9,
   "id": "c7cf0520",
   "metadata": {},
   "outputs": [
    {
     "data": {
      "text/plain": [
       "array([ 1., -2.,  1.])"
      ]
     },
     "execution_count": 9,
     "metadata": {},
     "output_type": "execute_result"
    }
   ],
   "source": [
    "from numpy import array\n",
    "import numpy\n",
    "# A = [\n",
    "#     [5, 0, 0],\n",
    "#     [0, 3, -4],\n",
    "#     [0, 8, -9]\n",
    "# # ]\n",
    "# A = array([\n",
    "#     [-3/23, -18/23, 14/23],\n",
    "#     [-6/23, -13/23, -18/23],\n",
    "#     [22/23, -6/23, -3/23]\n",
    "# ])\n",
    "A = 1/7*array([\n",
    "    [-3, -6, -2],\n",
    "    [-2, 3, -6],\n",
    "    [6, -2, -3]\n",
    "])\n",
    "numpy.matmul(A, [1, -2, 1])"
   ]
  }
 ],
 "metadata": {
  "kernelspec": {
   "display_name": "Python 3",
   "language": "python",
   "name": "python3"
  },
  "language_info": {
   "codemirror_mode": {
    "name": "ipython",
    "version": 3
   },
   "file_extension": ".py",
   "mimetype": "text/x-python",
   "name": "python",
   "nbconvert_exporter": "python",
   "pygments_lexer": "ipython3",
   "version": "3.11.7"
  }
 },
 "nbformat": 4,
 "nbformat_minor": 5
}

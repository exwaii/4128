{
 "cells": [
  {
   "cell_type": "code",
   "execution_count": null,
   "id": "0506b6b7",
   "metadata": {
    "vscode": {
     "languageId": "plaintext"
    }
   },
   "outputs": [],
   "source": [
    "from numpy import array\n",
    "import numpy\n",
    "A = [\n",
    "    [5, 0, 0],\n",
    "    [0, 3, -4],\n",
    "    [0, 8, -9]\n",
    "]\n"
   ]
  }
 ],
 "metadata": {
  "language_info": {
   "name": "python"
  }
 },
 "nbformat": 4,
 "nbformat_minor": 5
}
